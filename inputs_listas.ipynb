{
 "cells": [
  {
   "cell_type": "code",
   "execution_count": 8,
   "id": "b7627bb3",
   "metadata": {},
   "outputs": [
    {
     "name": "stdout",
     "output_type": "stream",
     "text": [
      "escreva seu e-mail: ba@gmail.com\n",
      "seu primeiro nome: Bárbara\n",
      "ba@gmail.com Bárbara\n",
      "Bárbara, verifique o seu email: ba@gmail.com, que enviamos um link de confirmação\n"
     ]
    }
   ],
   "source": [
    "#inputs [sempre em formato de TEXTO]\n",
    "\n",
    "#input com número para fazer alguma função\n",
    "#faturamento = float(input(\"qual foi o seu faturamento mensal? \"))\n",
    "#imposto = faturamento * 0.1\n",
    "#print(imposto)\n",
    "\n",
    "email = input(\"escreva seu e-mail: \")\n",
    "nome = input(\"seu primeiro nome: \")\n",
    "print(email, nome)\n",
    "print(f\"{nome}, verifique o seu email: {email}, que enviamos um link de confirmação\")\n",
    "\n"
   ]
  },
  {
   "cell_type": "code",
   "execution_count": 17,
   "id": "937c9ced",
   "metadata": {},
   "outputs": [
    {
     "name": "stdout",
     "output_type": "stream",
     "text": [
      "914\n",
      "6\n",
      "700 14\n",
      "100\n",
      "True\n",
      "Pesquisa pelo nome do produto: IPHONE\n",
      "True\n"
     ]
    }
   ],
   "source": [
    "#listas\n",
    "vendas = [100, 50, 14, 20, 30, 700]\n",
    "#total de vendas\n",
    "total_vendas = sum(vendas)\n",
    "print(total_vendas)\n",
    "\n",
    "#tamanho da lista\n",
    "tamanho_lista = len(vendas)\n",
    "print(tamanho_lista)\n",
    "\n",
    "#max e min\n",
    "maximo = max(vendas)\n",
    "minimo = min(vendas)\n",
    "print(maximo, minimo)\n",
    "\n",
    "#pegar posição por indíce\n",
    "print(vendas[0])\n",
    "\n",
    "lista_produtos = [\"samsung\", \"motorola\", \"iphone\", \"xiaomi\"]\n",
    "print(\"samsung\" in lista_produtos)\n",
    "\n",
    "produto_procurado = input(\"Pesquisa pelo nome do produto: \")\n",
    "produto_procurado = produto_procurado.lower() #tudo minusculo\n",
    "print(produto_procurado in lista_produtos)"
   ]
  },
  {
   "cell_type": "code",
   "execution_count": 42,
   "id": "12e5edd0",
   "metadata": {},
   "outputs": [],
   "source": [
    "#contar quantas vezes um item aparece na lista\n",
    "print(produto_procurado.count(\"xiaomi\"))\n",
    "\n",
    "#adicionar um item na lista\n",
    "lista_produtos.append(\"samsung\")\n",
    "print(lista_produtos)\n",
    "\n",
    "#remover um item na lista\n",
    "lista_produtos.remove(\"poco\") #nome\n",
    "print(lista_produtos)\n",
    "#lista_produtos.pop(\"3\") #indice\n",
    "\n",
    "#ordernar a lista\n",
    "produto_procurado.sort() #ou .sort(reverse=True)\n",
    "print(produto_procurado)\n",
    "\n",
    "#editar um item / valor do item + novo valor do item[] = novo valor\n",
    "preco_produtos = [1000, 1500, 3000]\n",
    "preco_produtos[0] = 2500\n",
    "preco_produtos[1] = preco_produtos * 1.5"
   ]
  },
  {
   "cell_type": "code",
   "execution_count": null,
   "id": "c40e63f9",
   "metadata": {},
   "outputs": [],
   "source": []
  }
 ],
 "metadata": {
  "kernelspec": {
   "display_name": "Python 3 (ipykernel)",
   "language": "python",
   "name": "python3"
  },
  "language_info": {
   "codemirror_mode": {
    "name": "ipython",
    "version": 3
   },
   "file_extension": ".py",
   "mimetype": "text/x-python",
   "name": "python",
   "nbconvert_exporter": "python",
   "pygments_lexer": "ipython3",
   "version": "3.11.4"
  }
 },
 "nbformat": 4,
 "nbformat_minor": 5
}
