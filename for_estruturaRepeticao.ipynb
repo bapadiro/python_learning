{
 "cells": [
  {
   "cell_type": "code",
   "execution_count": 13,
   "id": "aad40c80",
   "metadata": {},
   "outputs": [
    {
     "name": "stdout",
     "output_type": "stream",
     "text": [
      "0\n",
      "0\n",
      "0\n",
      "150.0\n",
      "200.0\n",
      "230.0\n"
     ]
    }
   ],
   "source": [
    "#i [contador] range[qnt executar]\n",
    "#for i in range(5):\n",
    "    #print(\"Analise de Dados\")\n",
    "\n",
    "#para cada item dentro da sua lista\n",
    "#for item in lista_vendas:\n",
    "    #print(item)#tudo que for exdcutado varias vezes, é dentro do for [O PRINT PRECISA ESTÁ DENTRO DO FOR]\n",
    "    \n",
    "lista_vendas = [1000, 500, 800, 1500, 2000, 2300]\n",
    "\n",
    "meta = 1200\n",
    "percentual_bonus = 0.1\n",
    "\n",
    "for venda in lista_vendas:\n",
    "    if venda >= meta:\n",
    "        bonus = percentual_bonus * venda\n",
    "    else:\n",
    "        bonus = 0\n",
    "    print(bonus)\n",
    "\n",
    "\n"
   ]
  },
  {
   "cell_type": "code",
   "execution_count": null,
   "id": "1a9761c7",
   "metadata": {},
   "outputs": [],
   "source": []
  }
 ],
 "metadata": {
  "kernelspec": {
   "display_name": "Python 3 (ipykernel)",
   "language": "python",
   "name": "python3"
  },
  "language_info": {
   "codemirror_mode": {
    "name": "ipython",
    "version": 3
   },
   "file_extension": ".py",
   "mimetype": "text/x-python",
   "name": "python",
   "nbconvert_exporter": "python",
   "pygments_lexer": "ipython3",
   "version": "3.11.4"
  }
 },
 "nbformat": 4,
 "nbformat_minor": 5
}
