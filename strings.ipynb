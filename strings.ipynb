{
 "cells": [
  {
   "cell_type": "code",
   "execution_count": 38,
   "id": "4dc2ae8f",
   "metadata": {},
   "outputs": [
    {
     "name": "stdout",
     "output_type": "stream",
     "text": [
      "Faturamento: 1000, Custo: 700.5, Lucro: 299.5\n",
      "QUALQUER@GMAIL.COM\n",
      "qualquer@gmail.com\n",
      "8\n",
      "18\n",
      "@\n",
      "@gmail.com\n",
      "qualquer@outlook.com\n",
      "qualquer@outlook.com\n",
      "Bárbara diogo\n",
      "Bárbara Diogo\n",
      "8 @outlook.com\n",
      "Bárbara\n",
      " Diogo\n",
      "Faturamento R$: 1000.00, Custo R$: 700.50, Lucro: 299.50 Margem R$: 30%\n"
     ]
    }
   ],
   "source": [
    "faturamento = 1000\n",
    "custo = 700.50\n",
    "lucro = faturamento - custo\n",
    "margem = lucro / faturamento\n",
    "print(f\"Faturamento: {faturamento}, Custo: {custo}, Lucro: {lucro}\")\n",
    "\n",
    "email_cliente = \"qualquer@gmail.com\"\n",
    "\n",
    "#maiuscula / minuscula\n",
    "email_cliente = email_cliente.upper()\n",
    "print(email_cliente)\n",
    "email_cliente = email_cliente.lower()\n",
    "print(email_cliente)\n",
    "\n",
    "#numero de posição para cada caracter, inicia a contagem do 0\n",
    "#encontrar um elemento\n",
    "#find() posição do elemento\n",
    "print(email_cliente.find(\"@\")) #-1 quando não encontrar\n",
    "\n",
    "#len() tamanho do texto\n",
    "print(len(email_cliente))\n",
    "\n",
    "#pegar um caracter []\n",
    "print(email_cliente[8])\n",
    "\n",
    "#pegar um pedaço do texto\n",
    "print(email_cliente[8:])\n",
    "\n",
    "#criar um novo valor\n",
    "novo_email = email_cliente.replace(\"gmail.com\",\"outlook.com\")\n",
    "print(novo_email)\n",
    "\n",
    "#editar um texto\n",
    "email_cliente = email_cliente.replace(\"gmail.com\", \"outlook.com\")\n",
    "print(email_cliente)\n",
    "\n",
    "#primeira letra maiuscula / primeira letra de cada palavra\n",
    "nome = \"Bárbara Diogo\"\n",
    "print(nome.capitalize()) #primeira letra maiuscula\n",
    "print(nome.title()) #primeira letra de cada palavra\n",
    "\n",
    "#pegar o servidor do email\n",
    "posicao = email_cliente.find(\"@\")\n",
    "servidor = email_cliente[posicao:]\n",
    "\n",
    "print(posicao, servidor)\n",
    "\n",
    "#pegar o 1º nome\n",
    "posicao_espaco = nome.find(\" \")\n",
    "primeiro_nome = nome[:posicao_espaco]\n",
    "\n",
    "#pegar o tamanho do texto\n",
    "sobrenome = nome[posicao_espaco:]\n",
    "print(primeiro_nome)\n",
    "print(sobrenome)\n",
    "\n",
    "#formatação numerica em texto\n",
    "margem = round(margem, 2)\n",
    "print(f\"Faturamento R$: {faturamento:.2f}, Custo R$: {custo:.2f}, Lucro: {lucro:.2f} Margem R$: {margem:.0%}\")\n",
    "#quando tem a formatação f e quer formatar dentro do print, é preciso colocar (: e depois .)\n",
    "#.0 (0 casa decimais)\n",
    "#f de float, % de porcentagem"
   ]
  },
  {
   "cell_type": "code",
   "execution_count": null,
   "id": "854e8349",
   "metadata": {},
   "outputs": [],
   "source": []
  }
 ],
 "metadata": {
  "kernelspec": {
   "display_name": "Python 3 (ipykernel)",
   "language": "python",
   "name": "python3"
  },
  "language_info": {
   "codemirror_mode": {
    "name": "ipython",
    "version": 3
   },
   "file_extension": ".py",
   "mimetype": "text/x-python",
   "name": "python",
   "nbconvert_exporter": "python",
   "pygments_lexer": "ipython3",
   "version": "3.11.4"
  }
 },
 "nbformat": 4,
 "nbformat_minor": 5
}
