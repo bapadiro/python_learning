{
 "cells": [
  {
   "cell_type": "code",
   "execution_count": 22,
   "id": "6f596b7d",
   "metadata": {},
   "outputs": [
    {
     "name": "stdout",
     "output_type": "stream",
     "text": [
      "Faturamento atual: 1200 Margem de lucro atual: 0.28\n",
      "Seja bem-vindo ao mundo TecPub\n",
      "O tempo em anos:  14\n",
      "Tempo em meses:  2\n",
      "O tempo total do contrato é 14 e 2\n"
     ]
    }
   ],
   "source": [
    "faturamento = 1200\n",
    "custo = 750.0\n",
    "imposto = faturamento * 0.1\n",
    "lucro = faturamento - custo - imposto \n",
    "margem_lucro = lucro / faturamento\n",
    "\n",
    "print(\"Faturamento atual:\", faturamento, \"Margem de lucro atual:\", round(margem_lucro, 2))\n",
    "\n",
    "msg = \"Seja bem-vindo ao mundo TecPub\"\n",
    "print(msg)\n",
    "\n",
    "teve_lucro = True\n",
    "\n",
    "#mod % resto da divisão\n",
    "tempo_contrato = 170\n",
    "tempo_anos = 170 / 12\n",
    "print(\"O tempo em anos: \", int(tempo_anos)) #apenas a parte inteira / sem os meses\n",
    "tempo_meses = 170 % 12\n",
    "print(\"Tempo em meses: \",tempo_meses)\n",
    "print(\"O tempo total do contrato é\", int(tempo_anos), \"e\", tempo_meses)\n"
   ]
  },
  {
   "cell_type": "code",
   "execution_count": null,
   "id": "71047c18",
   "metadata": {},
   "outputs": [],
   "source": []
  }
 ],
 "metadata": {
  "kernelspec": {
   "display_name": "Python 3 (ipykernel)",
   "language": "python",
   "name": "python3"
  },
  "language_info": {
   "codemirror_mode": {
    "name": "ipython",
    "version": 3
   },
   "file_extension": ".py",
   "mimetype": "text/x-python",
   "name": "python",
   "nbconvert_exporter": "python",
   "pygments_lexer": "ipython3",
   "version": "3.11.4"
  }
 },
 "nbformat": 4,
 "nbformat_minor": 5
}
