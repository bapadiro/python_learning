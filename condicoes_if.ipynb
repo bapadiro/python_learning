{
 "cells": [
  {
   "cell_type": "code",
   "execution_count": 16,
   "id": "2991af12",
   "metadata": {},
   "outputs": [
    {
     "name": "stdout",
     "output_type": "stream",
     "text": [
      "Parabens, vendedor tem direito à bônus\n",
      "Bônus do vendedor: R$ 150.0\n",
      "Bônus: 150.0\n",
      "Bônus: 150.0\n"
     ]
    }
   ],
   "source": [
    "#condições if\n",
    "#if condicao/comparacao:\n",
    "    #tudo o que tem que acontecer se a condição for verdadeira\n",
    "#else:\n",
    "    #tudo o que tem que acontecer se a condição for falsa\n",
    "\n",
    "# > maior que\n",
    "# < menor que\n",
    "# >= maior ou igual\n",
    "# <= menor ou igual\n",
    "# == igual\n",
    "# != diferente\n",
    "\n",
    "vendas = 1500\n",
    "meta = 1300\n",
    "\n",
    "if vendas > meta:\n",
    "    print(\"Parabens, vendedor tem direito à bônus\")\n",
    "    bonus = 0.1 * vendas\n",
    "    print(\"Bônus do vendedor: R$\", bonus)\n",
    "else:\n",
    "    print(\"Ops, vendedor não tem direito ao bonus\")\n",
    "    print(\"Vendedor não bateu a meta\")\n",
    "\n",
    "#nova estrutura 1\n",
    "vendas = 1500\n",
    "meta1 = 1300 # 10%\n",
    "meta2 = 2000 # 13%\n",
    "\n",
    "if vendas >= meta2:\n",
    "    bonus = 0.13 * vendas\n",
    "else:\n",
    "    if vendas >= meta1:\n",
    "        bonus = 0.1 * vendas\n",
    "    else:\n",
    "        bonus = 0          \n",
    "print(f\"Bônus: {bonus}\")\n",
    "\n",
    "#nova estrutura 1.2\n",
    "if vendas >= meta2:\n",
    "    bonus = 0.13 * vendas \n",
    "elif vendas >= meta1:\n",
    "    bonus = 0.1 * vendas\n",
    "else:\n",
    "    bonus = 0\n",
    "print(f\"Bônus: {bonus}\")\n",
    "    \n",
    "    \n",
    "    \n",
    "    "
   ]
  },
  {
   "cell_type": "code",
   "execution_count": 15,
   "id": "a8d3741e",
   "metadata": {},
   "outputs": [
    {
     "name": "stdout",
     "output_type": "stream",
     "text": [
      "Bonus: 273.0\n"
     ]
    }
   ],
   "source": [
    "#nova estrutura 2\n",
    "vendas = 2100\n",
    "vendas_empresa = 22000\n",
    "meta_empresa = 20000\n",
    "meta1 = 1300 # 10%\n",
    "meta2 = 2000 # 13%\n",
    "\n",
    "if vendas >= meta2 and vendas_empresa >= meta_empresa:\n",
    "    bonus = 0.13 * vendas\n",
    "elif vendas >= meta1 and vendas_empresa >= meta_empresa:\n",
    "    bonus = 0.1 * vendas\n",
    "else:\n",
    "    bonus = 0\n",
    "print(f\"Bonus: {bonus}\")"
   ]
  },
  {
   "cell_type": "code",
   "execution_count": 13,
   "id": "645f383e",
   "metadata": {},
   "outputs": [
    {
     "name": "stdout",
     "output_type": "stream",
     "text": [
      "Procure um produto: geladeira\n",
      "Produto em falta\n"
     ]
    }
   ],
   "source": [
    "lista_produtos = ['liquidifircador', 'panela eletrica', 'frigideira', 'panela pressão']\n",
    "produto_procurado = input(\"Procure um produto: \")\n",
    "produto_procurado = produto_procurado.lower()\n",
    "\n",
    "if produto_procurado in lista_produtos:\n",
    "    print(\"Produto no estoque\")\n",
    "else:\n",
    "    print(\"Produto em falta\")"
   ]
  }
 ],
 "metadata": {
  "kernelspec": {
   "display_name": "Python 3 (ipykernel)",
   "language": "python",
   "name": "python3"
  },
  "language_info": {
   "codemirror_mode": {
    "name": "ipython",
    "version": 3
   },
   "file_extension": ".py",
   "mimetype": "text/x-python",
   "name": "python",
   "nbconvert_exporter": "python",
   "pygments_lexer": "ipython3",
   "version": "3.11.4"
  }
 },
 "nbformat": 4,
 "nbformat_minor": 5
}
